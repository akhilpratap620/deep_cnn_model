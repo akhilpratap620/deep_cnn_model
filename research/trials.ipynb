{
 "cells": [
  {
   "cell_type": "code",
   "execution_count": null,
   "metadata": {},
   "outputs": [],
   "source": []
  }
 ],
 "metadata": {
  "kernelspec": {
   "display_name": "Python 3.8.3 ('base')",
   "language": "python",
   "name": "python3"
  },
  "language_info": {
   "name": "python",
   "version": "3.8.3"
  },
  "orig_nbformat": 4,
  "vscode": {
   "interpreter": {
    "hash": "f3336338005a8cb6d388ee4c84b4f1f144de9e1cc0677d83beec62d97a2b9d38"
   }
  }
 },
 "nbformat": 4,
 "nbformat_minor": 2
}
